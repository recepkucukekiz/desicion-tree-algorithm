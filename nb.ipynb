{
 "cells": [
  {
   "cell_type": "code",
   "execution_count": 1,
   "metadata": {},
   "outputs": [],
   "source": [
    "import pandas as pd\n",
    "import numpy as np\n"
   ]
  },
  {
   "cell_type": "code",
   "execution_count": 2,
   "metadata": {},
   "outputs": [],
   "source": [
    "train_data = pd.read_excel(\"question.xlsx\", index_col = None)"
   ]
  },
  {
   "cell_type": "code",
   "execution_count": 3,
   "metadata": {},
   "outputs": [
    {
     "data": {
      "text/plain": [
       "0      <=30\n",
       "1      <=30\n",
       "2     31…40\n",
       "3       >40\n",
       "4       >40\n",
       "5       >40\n",
       "6     31…40\n",
       "7      <=30\n",
       "8      <=30\n",
       "9       >40\n",
       "10     <=30\n",
       "11    31…40\n",
       "12    31…40\n",
       "13      >40\n",
       "Name: Age, dtype: object"
      ]
     },
     "execution_count": 3,
     "metadata": {},
     "output_type": "execute_result"
    }
   ],
   "source": [
    "train_data[\"Age\"]"
   ]
  },
  {
   "cell_type": "code",
   "execution_count": 4,
   "metadata": {},
   "outputs": [
    {
     "data": {
      "text/plain": [
       "'<=30'"
      ]
     },
     "execution_count": 4,
     "metadata": {},
     "output_type": "execute_result"
    }
   ],
   "source": [
    "train_data.iloc[0][\"Age\"]"
   ]
  },
  {
   "cell_type": "code",
   "execution_count": 5,
   "metadata": {},
   "outputs": [
    {
     "data": {
      "text/plain": [
       "Index(['Age', 'Income', 'Student', 'Credit Rating', 'Buy Car'], dtype='object')"
      ]
     },
     "execution_count": 5,
     "metadata": {},
     "output_type": "execute_result"
    }
   ],
   "source": [
    "train_data.columns"
   ]
  },
  {
   "cell_type": "code",
   "execution_count": 6,
   "metadata": {},
   "outputs": [
    {
     "name": "stdout",
     "output_type": "stream",
     "text": [
      "Age              <=30\n",
      "Income           High\n",
      "Student            No\n",
      "Credit Rating    Fair\n",
      "Buy Car            No\n",
      "Name: 0, dtype: object\n",
      "Age              <=30\n",
      "Income           High\n",
      "Student            No\n",
      "Credit Rating    Fair\n",
      "Buy Car            No\n",
      "Name: 0, dtype: object\n",
      "Age              <=30\n",
      "Income           High\n",
      "Student            No\n",
      "Credit Rating    Fair\n",
      "Buy Car            No\n",
      "Name: 0, dtype: object\n",
      "Age              <=30\n",
      "Income           High\n",
      "Student            No\n",
      "Credit Rating    Fair\n",
      "Buy Car            No\n",
      "Name: 0, dtype: object\n",
      "Age              <=30\n",
      "Income           High\n",
      "Student            No\n",
      "Credit Rating    Fair\n",
      "Buy Car            No\n",
      "Name: 0, dtype: object\n"
     ]
    }
   ],
   "source": [
    "for data in train_data.columns:\n",
    "    print(train_data.iloc[0])"
   ]
  },
  {
   "cell_type": "code",
   "execution_count": 42,
   "metadata": {},
   "outputs": [],
   "source": [
    "class_0 = \"Yes\"\n",
    "class_1 = \"No\"\n",
    "class_row = \"Buy Car\""
   ]
  },
  {
   "cell_type": "code",
   "execution_count": 7,
   "metadata": {},
   "outputs": [],
   "source": [
    "def unique_counter(data):\n",
    "    values, counts = np.unique(data, return_counts=True)\n",
    "    return dict(zip(values,counts)) #how many times each unique value occurring"
   ]
  },
  {
   "cell_type": "code",
   "execution_count": 8,
   "metadata": {},
   "outputs": [],
   "source": [
    "def info_calculator(values):\n",
    "    total = sum(values)\n",
    "    numbers = []\n",
    "    for value in values:\n",
    "        numbers.append((value/total) * np.log2(value/total))\n",
    "    return sum([-1 * number for number in numbers])"
   ]
  },
  {
   "cell_type": "code",
   "execution_count": null,
   "metadata": {},
   "outputs": [],
   "source": [
    "def pn(data):\n",
    "    return 0"
   ]
  },
  {
   "cell_type": "code",
   "execution_count": 62,
   "metadata": {},
   "outputs": [],
   "source": [
    "def class_info_calculator(data, target):\n",
    "    types = unique_counter(data[target])\n",
    "    infos = []\n",
    "    for key in types.keys():\n",
    "        c1 = data[(data[target] == key) & (data[class_row] == class_0)].shape[0]\n",
    "        c2 = data[(data[target] == key) & (data[class_row] == class_1)].shape[0]\n",
    "        each_info = info_calculator([c1,c2])\n",
    "        infos.append(each_info if not np.isnan(each_info) else 0)\n",
    "    total = sum(types.values())\n",
    "    print(types)\n",
    "    print(infos)\n",
    "    print(total)\n",
    "\n",
    "    numbers = []\n",
    "    for type_value, value in zip(types.values(), infos):\n",
    "        if value != 0:\n",
    "            numbers.append((type_value/total) * np.log2(value))\n",
    "        else:\n",
    "            numbers.append(0)\n",
    "    return sum([-1 * number for number in numbers])\n"
   ]
  },
  {
   "cell_type": "code",
   "execution_count": 10,
   "metadata": {},
   "outputs": [],
   "source": [
    "test = unique_counter(train_data[\"Buy Car\"]).values()"
   ]
  },
  {
   "cell_type": "code",
   "execution_count": 11,
   "metadata": {},
   "outputs": [
    {
     "data": {
      "text/plain": [
       "dict_values([5, 9])"
      ]
     },
     "execution_count": 11,
     "metadata": {},
     "output_type": "execute_result"
    }
   ],
   "source": [
    "test"
   ]
  },
  {
   "cell_type": "code",
   "execution_count": 12,
   "metadata": {},
   "outputs": [
    {
     "data": {
      "text/plain": [
       "0.9402859586706311"
      ]
     },
     "execution_count": 12,
     "metadata": {},
     "output_type": "execute_result"
    }
   ],
   "source": [
    "info_calculator(test)"
   ]
  },
  {
   "cell_type": "code",
   "execution_count": 63,
   "metadata": {},
   "outputs": [
    {
     "name": "stdout",
     "output_type": "stream",
     "text": [
      "{'31…40': 4, '<=30': 5, '>40': 5}\n",
      "[0, 0.9709505944546686, 0.9709505944546686]\n",
      "14\n"
     ]
    },
    {
     "name": "stderr",
     "output_type": "stream",
     "text": [
      "C:\\Users\\recep\\AppData\\Local\\Temp\\ipykernel_1096\\3424761301.py:5: RuntimeWarning: divide by zero encountered in log2\n",
      "  numbers.append((value/total) * np.log2(value/total))\n",
      "C:\\Users\\recep\\AppData\\Local\\Temp\\ipykernel_1096\\3424761301.py:5: RuntimeWarning: invalid value encountered in double_scalars\n",
      "  numbers.append((value/total) * np.log2(value/total))\n"
     ]
    },
    {
     "data": {
      "text/plain": [
       "0.03037871929784009"
      ]
     },
     "execution_count": 63,
     "metadata": {},
     "output_type": "execute_result"
    }
   ],
   "source": [
    "class_info_calculator(train_data, \"Age\")"
   ]
  }
 ],
 "metadata": {
  "kernelspec": {
   "display_name": "Python 3.9.13 ('datascience')",
   "language": "python",
   "name": "python3"
  },
  "language_info": {
   "codemirror_mode": {
    "name": "ipython",
    "version": 3
   },
   "file_extension": ".py",
   "mimetype": "text/x-python",
   "name": "python",
   "nbconvert_exporter": "python",
   "pygments_lexer": "ipython3",
   "version": "3.9.13"
  },
  "orig_nbformat": 4,
  "vscode": {
   "interpreter": {
    "hash": "431952e8195d73cd39404705109eaefd639dd3fb8d4e9cb1f35f6f6a5f324ad3"
   }
  }
 },
 "nbformat": 4,
 "nbformat_minor": 2
}
