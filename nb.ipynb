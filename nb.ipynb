{
 "cells": [
  {
   "cell_type": "code",
   "execution_count": 1,
   "metadata": {},
   "outputs": [],
   "source": [
    "import pandas as pd\n",
    "import numpy as np\n"
   ]
  },
  {
   "cell_type": "code",
   "execution_count": 2,
   "metadata": {},
   "outputs": [],
   "source": [
    "train_data = pd.read_excel(\"question.xlsx\", index_col = None)"
   ]
  },
  {
   "cell_type": "code",
   "execution_count": 3,
   "metadata": {},
   "outputs": [
    {
     "data": {
      "text/plain": [
       "0      <=30\n",
       "1      <=30\n",
       "2     31…40\n",
       "3       >40\n",
       "4       >40\n",
       "5       >40\n",
       "6     31…40\n",
       "7      <=30\n",
       "8      <=30\n",
       "9       >40\n",
       "10     <=30\n",
       "11    31…40\n",
       "12    31…40\n",
       "13      >40\n",
       "Name: Age, dtype: object"
      ]
     },
     "execution_count": 3,
     "metadata": {},
     "output_type": "execute_result"
    }
   ],
   "source": [
    "train_data[\"Age\"]"
   ]
  },
  {
   "cell_type": "code",
   "execution_count": 4,
   "metadata": {},
   "outputs": [
    {
     "data": {
      "text/plain": [
       "'<=30'"
      ]
     },
     "execution_count": 4,
     "metadata": {},
     "output_type": "execute_result"
    }
   ],
   "source": [
    "train_data.iloc[0][\"Age\"]"
   ]
  },
  {
   "cell_type": "code",
   "execution_count": 5,
   "metadata": {},
   "outputs": [
    {
     "data": {
      "text/plain": [
       "Index(['Age', 'Income', 'Student', 'Credit Rating', 'Buy Car'], dtype='object')"
      ]
     },
     "execution_count": 5,
     "metadata": {},
     "output_type": "execute_result"
    }
   ],
   "source": [
    "train_data.columns"
   ]
  },
  {
   "cell_type": "code",
   "execution_count": 6,
   "metadata": {},
   "outputs": [
    {
     "name": "stdout",
     "output_type": "stream",
     "text": [
      "Age              <=30\n",
      "Income           High\n",
      "Student            No\n",
      "Credit Rating    Fair\n",
      "Buy Car            No\n",
      "Name: 0, dtype: object\n",
      "Age              <=30\n",
      "Income           High\n",
      "Student            No\n",
      "Credit Rating    Fair\n",
      "Buy Car            No\n",
      "Name: 0, dtype: object\n",
      "Age              <=30\n",
      "Income           High\n",
      "Student            No\n",
      "Credit Rating    Fair\n",
      "Buy Car            No\n",
      "Name: 0, dtype: object\n",
      "Age              <=30\n",
      "Income           High\n",
      "Student            No\n",
      "Credit Rating    Fair\n",
      "Buy Car            No\n",
      "Name: 0, dtype: object\n",
      "Age              <=30\n",
      "Income           High\n",
      "Student            No\n",
      "Credit Rating    Fair\n",
      "Buy Car            No\n",
      "Name: 0, dtype: object\n"
     ]
    }
   ],
   "source": [
    "for data in train_data.columns:\n",
    "    print(train_data.iloc[0])"
   ]
  },
  {
   "cell_type": "code",
   "execution_count": 7,
   "metadata": {},
   "outputs": [],
   "source": [
    "def unique_counter(data):\n",
    "    values, counts = np.unique(data, return_counts=True)\n",
    "    return dict(zip(values,counts)) #how many times each unique value occurring"
   ]
  },
  {
   "cell_type": "code",
   "execution_count": 8,
   "metadata": {},
   "outputs": [],
   "source": [
    "def info_calculator(values):\n",
    "    total = sum(values)\n",
    "    numbers = []\n",
    "    for value in values:\n",
    "        numbers.append((value/total) * np.log2(value/total))\n",
    "    return sum([-1 * number for number in numbers])"
   ]
  },
  {
   "cell_type": "code",
   "execution_count": 12,
   "metadata": {},
   "outputs": [],
   "source": [
    "def class_info_calculator(data):\n",
    "    types = unique_counter(data)\n",
    "    "
   ]
  },
  {
   "cell_type": "code",
   "execution_count": 9,
   "metadata": {},
   "outputs": [],
   "source": [
    "test = unique_counter(train_data[\"Buy Car\"]).values()"
   ]
  },
  {
   "cell_type": "code",
   "execution_count": 10,
   "metadata": {},
   "outputs": [
    {
     "data": {
      "text/plain": [
       "dict_values([5, 9])"
      ]
     },
     "execution_count": 10,
     "metadata": {},
     "output_type": "execute_result"
    }
   ],
   "source": [
    "test"
   ]
  },
  {
   "cell_type": "code",
   "execution_count": 11,
   "metadata": {},
   "outputs": [
    {
     "data": {
      "text/plain": [
       "0.9402859586706311"
      ]
     },
     "execution_count": 11,
     "metadata": {},
     "output_type": "execute_result"
    }
   ],
   "source": [
    "info_calculator(test)"
   ]
  },
  {
   "cell_type": "code",
   "execution_count": 13,
   "metadata": {},
   "outputs": [
    {
     "data": {
      "text/plain": [
       "{'31…40': 4, '<=30': 5, '>40': 5}"
      ]
     },
     "execution_count": 13,
     "metadata": {},
     "output_type": "execute_result"
    }
   ],
   "source": [
    "class_info_calculator(train_data[\"Age\"])"
   ]
  }
 ],
 "metadata": {
  "kernelspec": {
   "display_name": "Python 3.10.8 64-bit",
   "language": "python",
   "name": "python3"
  },
  "language_info": {
   "codemirror_mode": {
    "name": "ipython",
    "version": 3
   },
   "file_extension": ".py",
   "mimetype": "text/x-python",
   "name": "python",
   "nbconvert_exporter": "python",
   "pygments_lexer": "ipython3",
   "version": "3.10.8"
  },
  "orig_nbformat": 4,
  "vscode": {
   "interpreter": {
    "hash": "b0fa6594d8f4cbf19f97940f81e996739fb7646882a419484c72d19e05852a7e"
   }
  }
 },
 "nbformat": 4,
 "nbformat_minor": 2
}
