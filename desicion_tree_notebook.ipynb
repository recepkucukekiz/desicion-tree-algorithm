{
 "cells": [
  {
   "cell_type": "markdown",
   "metadata": {},
   "source": [
    "### **Import Libraries and Read Data**"
   ]
  },
  {
   "cell_type": "code",
   "execution_count": 17,
   "metadata": {},
   "outputs": [],
   "source": [
    "import numpy as np\n",
    "import pandas as pd\n",
    "import seaborn as sns"
   ]
  },
  {
   "cell_type": "code",
   "execution_count": 18,
   "metadata": {},
   "outputs": [],
   "source": [
    "train = pd.read_excel(\"trainDATA.xlsx\", index_col = None)\n",
    "test = pd.read_excel(\"testDATA.xlsx\", index_col = None)"
   ]
  },
  {
   "cell_type": "code",
   "execution_count": 19,
   "metadata": {},
   "outputs": [],
   "source": [
    "X = train.iloc[:,:-1].to_numpy()\n",
    "Y = train.iloc[:,-1:].to_numpy()\n",
    "\n",
    "test_X = test.iloc[:,:].to_numpy()\n",
    "test_Y = []"
   ]
  },
  {
   "cell_type": "markdown",
   "metadata": {},
   "source": [
    "### **Define Model**"
   ]
  },
  {
   "cell_type": "code",
   "execution_count": 20,
   "metadata": {},
   "outputs": [],
   "source": [
    "feature_names = train.columns\n",
    "max_depth = 5"
   ]
  },
  {
   "cell_type": "code",
   "execution_count": 21,
   "metadata": {},
   "outputs": [],
   "source": [
    "class Node:\n",
    "  def __init__(self, left=None, right=None, feature=None, value=None, leaf=False):\n",
    "    self.left = left\n",
    "    self.right = right\n",
    "    self.feature = feature\n",
    "    self.value = value\n",
    "    self.leaf = leaf\n",
    "\n",
    "  def is_leaf(self):\n",
    "    return self.leaf\n",
    "\n",
    "  def print(self, depth = 0, is_left = True):\n",
    "    if self.leaf:\n",
    "      print((\" \"*depth*4) + (\"yes: \" if is_left==True else \"no: \") + str(self.value))\n",
    "\n",
    "    else:\n",
    "      if depth == 0:\n",
    "        print(str(feature_names[self.feature]) + \" <= \" + str(self.value) + \"?\")\n",
    "\n",
    "      else:\n",
    "        print((\" \"*depth*4) + (\"yes: \" if is_left==True else \"no: \") \n",
    "              + str(feature_names[self.feature]) + \" <= \" + str(self.value) + \"?\")\n",
    "              \n",
    "      self.left.print(depth+1)\n",
    "      self.right.print(depth+1, is_left=False)\n"
   ]
  },
  {
   "cell_type": "code",
   "execution_count": 22,
   "metadata": {},
   "outputs": [],
   "source": [
    "def calculate_entropy(Y):\n",
    "  n_samples = len(Y)\n",
    "  _, counts = np.unique(Y, return_counts=True)\n",
    "\n",
    "  entropy = 0\n",
    "  for count in counts:\n",
    "    p = count / n_samples\n",
    "    entropy += -p * np.log2(p)\n",
    "\n",
    "  return entropy\n",
    "\n",
    "def calculate_gain(Y, Y_left, Y_right):\n",
    "  p = len(Y)\n",
    "  p_left = len(Y_left)\n",
    "  p_right = len(Y_right)\n",
    "\n",
    "  parent_entropy = calculate_entropy(Y)\n",
    "  left_entropy = calculate_entropy(Y_left)\n",
    "  right_entropy = calculate_entropy(Y_right)\n",
    "\n",
    "  gain = parent_entropy - (p_left / p) * left_entropy - (p_right / p) * right_entropy\n",
    "  return gain\n",
    "\n",
    "def split_data(X, Y, feature, value, left=True):\n",
    "  if left:\n",
    "    mask = X[:, feature] <= value\n",
    "    return X[mask], Y[mask]\n",
    "  else:\n",
    "    mask = X[:, feature] > value\n",
    "    return X[mask], Y[mask]\n",
    "\n",
    "def calculate_tree(X, Y, depth):\n",
    "  _, n_features = X.shape\n",
    "  \n",
    "  if depth >= max_depth:\n",
    "    unique_values, counts = np.unique(Y, return_counts=True)\n",
    "    leaf_value =  unique_values[np.argmax(counts)]\n",
    "    return Node(leaf=True, value=leaf_value)\n",
    "\n",
    "  best_gain = 0\n",
    "  best_feature = 0\n",
    "  best_value = 0\n",
    "\n",
    "  for feature in range(n_features):\n",
    "    for value in X[:, feature]:\n",
    "      X_left, Y_left = split_data(X, Y, feature, value)\n",
    "      X_right, Y_right = split_data(X, Y, feature, value, left=False)\n",
    "\n",
    "      gain = calculate_gain(Y, Y_left, Y_right)\n",
    "      \n",
    "      if gain > best_gain:\n",
    "        best_gain = gain\n",
    "        best_feature = feature\n",
    "        best_value = value\n",
    "\n",
    "  X_left, Y_left = split_data(X, Y, best_feature, best_value)\n",
    "  X_right, Y_right = split_data(X, Y, best_feature, best_value, left=False)\n",
    "  \n",
    "  if Y_left.shape[0] == 0 or Y_right.shape[0] == 0:\n",
    "    return Node(leaf=True, value=Y[0][0])\n",
    "\n",
    "  left_tree = calculate_tree(X_left, Y_left, depth + 1)\n",
    "  right_tree = calculate_tree(X_right, Y_right, depth + 1)\n",
    "  node = Node(left=left_tree, right=right_tree, feature=best_feature, value=best_value)\n",
    "  return node\n",
    "\n",
    "tree = calculate_tree(X, Y, depth=0)"
   ]
  },
  {
   "cell_type": "code",
   "execution_count": 23,
   "metadata": {},
   "outputs": [],
   "source": [
    "def predict_recursive(node, x):\n",
    "  if node.is_leaf():\n",
    "    return node.value\n",
    "  \n",
    "  feature = node.feature\n",
    "  value = node.value\n",
    "  if x[feature] <= value:\n",
    "    return predict_recursive(node.left, x)\n",
    "  else:\n",
    "    return predict_recursive(node.right, x)\n",
    "    \n",
    "def predict(X):\n",
    "  y_pred = []\n",
    "  for x in X:\n",
    "    y_pred.append(predict_recursive(tree, x))\n",
    "  return np.array(y_pred)"
   ]
  },
  {
   "cell_type": "markdown",
   "metadata": {},
   "source": [
    "### **Predict Data**"
   ]
  },
  {
   "cell_type": "code",
   "execution_count": 24,
   "metadata": {},
   "outputs": [],
   "source": [
    "predicted_Y = predict(X)\n",
    "test_Y = predict(test_X)"
   ]
  },
  {
   "cell_type": "code",
   "execution_count": 25,
   "metadata": {},
   "outputs": [],
   "source": [
    "test['Car Acceptibility'] = test_Y\n",
    "test.to_excel('testDATA-predicted.xlsx', index=False)"
   ]
  },
  {
   "cell_type": "markdown",
   "metadata": {},
   "source": [
    "### **Figure Tree**"
   ]
  },
  {
   "cell_type": "code",
   "execution_count": 26,
   "metadata": {},
   "outputs": [
    {
     "name": "stdout",
     "output_type": "stream",
     "text": [
      "Persons <= 2?\n",
      "    yes: 1\n",
      "    no: Safety <= 1?\n",
      "        yes: 1\n",
      "        no: Price <= 2?\n",
      "            yes: MaintPrice <= 3?\n",
      "                yes: Lug_size <= 1?\n",
      "                    yes: 1\n",
      "                    no: 2\n",
      "                no: 1\n",
      "            no: Lug_size <= 1?\n",
      "                yes: NoofDoors <= 2?\n",
      "                    yes: 1\n",
      "                    no: 2\n",
      "                no: NoofDoors <= 3?\n",
      "                    yes: 2\n",
      "                    no: 2\n"
     ]
    }
   ],
   "source": [
    "tree.print()"
   ]
  },
  {
   "cell_type": "markdown",
   "metadata": {},
   "source": [
    "### **Calculate Confusing Matrix**"
   ]
  },
  {
   "cell_type": "code",
   "execution_count": 27,
   "metadata": {},
   "outputs": [
    {
     "name": "stdout",
     "output_type": "stream",
     "text": [
      "True Negative: 938, False Negative: 36 \n",
      "False Positive: 56, True Positive: 270\n"
     ]
    }
   ],
   "source": [
    "true_positive = np.sum(np.logical_and(predicted_Y == 2, Y.flatten() == 2))\n",
    "true_negative = np.sum(np.logical_and(predicted_Y == 1, Y.flatten() == 1))\n",
    "false_positive = np.sum(np.logical_and(predicted_Y == 2, Y.flatten() == 1))\n",
    "false_negative = np.sum(np.logical_and(predicted_Y == 1, Y.flatten() == 2))\n",
    " \n",
    "print ('True Negative: %i, False Negative: %i \\nFalse Positive: %i, True Positive: %i' \n",
    "        % (true_negative,false_negative,false_positive,true_positive))"
   ]
  },
  {
   "cell_type": "code",
   "execution_count": 28,
   "metadata": {},
   "outputs": [
    {
     "data": {
      "text/plain": [
       "<AxesSubplot: >"
      ]
     },
     "execution_count": 28,
     "metadata": {},
     "output_type": "execute_result"
    },
    {
     "data": {
      "image/png": "[encoded data removed]",
      "text/plain": [
       "<Figure size 640x480 with 2 Axes>"
      ]
     },
     "metadata": {},
     "output_type": "display_data"
    }
   ],
   "source": [
    "confusing_matrix = [[true_negative,false_negative],\n",
    "                    [false_positive,true_positive]]\n",
    "                    \n",
    "sns.heatmap(confusing_matrix, annot=True, fmt='g', cmap='binary', xticklabels=[1,2], yticklabels=[1,2])"
   ]
  },
  {
   "cell_type": "markdown",
   "metadata": {},
   "source": [
    "### **Calculate Metrics**"
   ]
  },
  {
   "cell_type": "code",
   "execution_count": 29,
   "metadata": {},
   "outputs": [
    {
     "name": "stdout",
     "output_type": "stream",
     "text": [
      "Accuarcy Score: 0.9292307692307692\n"
     ]
    }
   ],
   "source": [
    "accuarcy_score = (true_positive + true_negative) / (true_positive + true_negative + false_positive + false_negative) \n",
    "print(\"Accuarcy Score:\", accuarcy_score)"
   ]
  },
  {
   "cell_type": "code",
   "execution_count": 30,
   "metadata": {},
   "outputs": [
    {
     "name": "stdout",
     "output_type": "stream",
     "text": [
      "Precision Score: 0.8282208588957055\n"
     ]
    }
   ],
   "source": [
    "precision_score = true_positive / (true_positive + false_positive) \n",
    "print(\"Precision Score:\", precision_score)"
   ]
  },
  {
   "cell_type": "code",
   "execution_count": 31,
   "metadata": {},
   "outputs": [
    {
     "name": "stdout",
     "output_type": "stream",
     "text": [
      "Recall Score: 0.8823529411764706\n"
     ]
    }
   ],
   "source": [
    "recall_score = true_positive / (true_positive + false_negative) \n",
    "print(\"Recall Score:\", recall_score)"
   ]
  },
  {
   "cell_type": "code",
   "execution_count": 32,
   "metadata": {},
   "outputs": [
    {
     "name": "stdout",
     "output_type": "stream",
     "text": [
      "F1 Score: 0.8544303797468354\n"
     ]
    }
   ],
   "source": [
    "f1_score = (2 * precision_score * recall_score) / (precision_score + recall_score) \n",
    "print(\"F1 Score:\", f1_score)"
   ]
  }
 ],
 "metadata": {
  "kernelspec": {
   "display_name": "Python 3.9.15 ('default')",
   "language": "python",
   "name": "python3"
  },
  "language_info": {
   "codemirror_mode": {
    "name": "ipython",
    "version": 3
   },
   "file_extension": ".py",
   "mimetype": "text/x-python",
   "name": "python",
   "nbconvert_exporter": "python",
   "pygments_lexer": "ipython3",
   "version": "3.9.15"
  },
  "orig_nbformat": 4,
  "vscode": {
   "interpreter": {
    "hash": "d0ba87b63b8b334cac936d4b343d7b4eeca8656cfed322cda6645596cc75d821"
   }
  }
 },
 "nbformat": 4,
 "nbformat_minor": 2
}
